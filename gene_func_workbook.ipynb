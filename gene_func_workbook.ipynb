{
 "cells": [
  {
   "cell_type": "markdown",
   "metadata": {},
   "source": [
    "# What do the SARS-Cov-2 genes do?\n",
    "\n",
    "\n",
    "One process in the analysis of a new organism is annotating the genome. The first step of this analysis is to find potential genes through identifying open reading frames (ORFs). After this, the next question is which of these correspond to actual genes?\n",
    "\n",
    "To answer this, we will lean on what we know about evolution. If two species are morphologically different, their genetic material must also differ substantially. Right? Not exactly. Evolution conserved many genes crucial for survival. The degree of conservation is surprising. For example, while we would expect to share many genes with the chimpanzee, our closest relative, we would expect almost no similarity in our genetic material with bananas. The numbers tell us otherwise. While sharing 96% of our genes with the chimpanzee, we also share 60% of our genes with bananas! These similar genes in humans and bananas encode proteins that carry similar functions.\n",
    "\n",
    "Two genes with similar sequences may perform similar functions. Genes like these are called homologous genes. Or, more precisely, in our case, these would be orthologous genes (see the figure below). A pair of orthologous genes are genes from two related species originating from a common ancestor (e.g., humans and chimpanzees). Due to the evolution, the two nucleotide or protein sequences might differ slightly but not overwhelmingly.\n",
    "\n",
    "<div>\n",
    "<img src=\"https://upload.wikimedia.org/wikipedia/commons/thumb/d/d8/Ortholog_paralog_analog_%28homologs%29.svg/1200px-Ortholog_paralog_analog_%28homologs%29.svg.png\" width=\"500\">\n",
    "</div>\n",
    "\n",
    "*Author: Thomas Shafee, Licence: CC BY 4.0*\n",
    "\n",
    "The human-banana example demonstrates that these two organisms don't have to be that closely related! If we tried to determine the gene function in humans using bananas as a reference, we could infer the role of over 60% of the genes. However, using two closely related organisms would undoubtedly give us more robust results. We would be better off choosing the genome of a mouse or a chimpanzee as our reference.\n",
    "\n",
    "Scientists have studied hundreds of viruses and determined the functions of most of their genes. Using viruses similar in sequence to SARS-Cov-2, we can characterize the SARS-CoV-2 ORFs to determine if they are the actual genes, and think about their function. Knowing what each gene does might help us find a way to fight the infection and potentially even find treatments for COVID-19. "
   ]
  },
  {
   "cell_type": "markdown",
   "metadata": {},
   "source": [
    "#### Please ensure each answer is completed in the single cell of the notebook immediately following the question, and that all answers are in ```markdown``` format.\n",
    "\n",
    "Once you have completed the notebook, make sure you save it and submit it via Moodle.\n",
    "\n",
    "All questions are worth between 4 and 10 marks. There are a total of *40 marks* available in this workbook. There is an extra bonus problem for *10 marks*. \n",
    "  \n",
    "Total notebook marks will be scaled to a **course mark out of 10** to contribute to your course total."
   ]
  },
  {
   "cell_type": "code",
   "execution_count": 93,
   "metadata": {},
   "outputs": [],
   "source": [
    "import numpy as np\n",
    "from Bio import Entrez"
   ]
  },
  {
   "cell_type": "code",
   "execution_count": 94,
   "metadata": {},
   "outputs": [],
   "source": [
    "# In order to import from the python file without hassle, we add the current\n",
    "# directory to the python path\n",
    "import sys; sys.path.append(\".\")"
   ]
  },
  {
   "cell_type": "markdown",
   "metadata": {},
   "source": [
    "Let's let the nice folks at NCBI know who we are."
   ]
  },
  {
   "cell_type": "code",
   "execution_count": null,
   "metadata": {},
   "outputs": [],
   "source": [
    "Entrez.email = \"<>@student.unsw.edu.au\""
   ]
  },
  {
   "cell_type": "markdown",
   "metadata": {},
   "source": [
    "## Finding SARS-CoV-2's closest relatives\n",
    "\n",
    "In the first part of this assignment, we will analyze several coronavirus genomes to determine which are most similar to SARS-CoV-2. We will then use the viruses with the most similar sequence as reference genomes to assign functions to SARS-CoV-2 ORFs.\n",
    "\n",
    "To find the closest reference genomes, we will align the SARS-CoV-2 sequence to each candidate coronavirus genome. The virus genomes with the highest alignment scores will be our most closely-related viruses.\n",
    "\n",
    "Notice that computing an alignment between two sequences of length $N$ and $M$ requires the computation of a dynamic programming table with $N \\cdot M$ entries. The size of this matrix is sufficiently small for short sequences. But even the short genomes, like viral genomes, are generally too long for this approach. Instead of computing similarities from the entire genomes, we will only focus on the spike protein sequence. In general, we would prefer to align the whole nucleotide sequences, but for this assignment, considering only a spike protein will be sufficient. The spike protein is also one of the essential parts of any coronavirus, as it is the one that grants the virus entry to host cells. \n",
    "\n",
    "Considering spike proteins alone reduces the sequence lengths from ~30k (entire virus) to around 1.3k (spike protein). Nevertheless, do your best to write fast, efficient Python code. Each `global_alignment` call on 1.3k long protein sequences should take around 30 to 60 seconds. \n",
    "We have to calculate 20 comparisons, which takes roughly 10 to 20 minutes."
   ]
  },
  {
   "cell_type": "code",
   "execution_count": 96,
   "metadata": {},
   "outputs": [],
   "source": [
    "accession_codes = {\n",
    "    # 6 known human coronaviruses\n",
    "    \"Human-SARS\": \"NC_004718\",\n",
    "    \"Human-MERS\": \"NC_019843\",\n",
    "    \"Human-HCoV-OC43\": \"NC_006213\",\n",
    "    \"Human-HCoV-229E\": \"NC_002645\",\n",
    "    \"Human-HCoV-NL63\": \"NC_005831\",\n",
    "    \"Human-HCoV-HKU1\": \"NC_006577\",\n",
    "    \n",
    "    # Bat\n",
    "    \"Bat-CoV MOP1\": \"EU420138\",\n",
    "    \"Bat-CoV HKU8\": \"NC_010438\",\n",
    "    \"Bat-CoV HKU2\": \"NC_009988\",\n",
    "    \"Bat-CoV HKU5\": \"NC_009020\",\n",
    "    \"Bat-CoV RaTG13\": \"MN996532\",\n",
    "    \"Bat-CoV-ENT\": \"NC_003045\",\n",
    "    \n",
    "    # Other animals\n",
    "    \"Hedgehog-CoV 2012-174/GER/2012\": \"NC_039207\",\n",
    "    \"Pangolin-CoV MP789\": \"MT121216\",\n",
    "    \"Rabbit-CoV HKU14\": \"NC_017083\",\n",
    "    \"Duck-CoV isolate DK/GD/27/2014\": \"NC_048214\",\n",
    "    \"Feline infectious peritonitis virus\": \"NC_002306\",  # cat\n",
    "    \"Giraffe-CoV US/OH3/2003\": \"EF424623\",\n",
    "    \"Murine-CoV MHV/BHKR_lab/USA/icA59_L94P/2012\": \"KF268338\",  # mouse\n",
    "    \"Equine-CoV Obihiro12-2\": \"LC061274\",  # horse\n",
    "}"
   ]
  },
  {
   "cell_type": "markdown",
   "metadata": {},
   "source": [
    "Above is the list of coronaviruses and their corresponding NCBI accession codes that we will consider in this assignment. You can find the SARS-CoV-2 sequence in `data/sars_cov_2.fa`. This time, we will use the FASTA format to familiarize ourselves with the sequence file formats used in bioinformatics. You can easily read FASTA files using the `SeqIO.read` function from `biopython`.\n",
    "\n",
    "We will only use part of the sequence, and to assess similarity, consider the spike protein alone. We will assume that we know the location of the spike protein in SARS-CoV-2 (strand=1, start=21562, stop=25384). We need to find a part of the sequence that encodes for the spike protein in all coronaviruses listed above. We can inspect each sequence's features to locate the spike protein. For this assignment, we will iterate through gene coding regions (CDS) for each coronavirus and find the one that codes for the \"S\" gene. Some coronaviruses do not include such annotation but instead report on a \"spike protein\" in the `product` field."
   ]
  },
  {
   "cell_type": "code",
   "execution_count": 97,
   "metadata": {},
   "outputs": [],
   "source": [
    "# TODO:\n",
    "# 1. load coronavirus sequences\n",
    "# 2. extract spike protein regions\n",
    "# 3. convert retreived nucleotide sequences to sequence of amino-acid"
   ]
  },
  {
   "cell_type": "markdown",
   "metadata": {},
   "source": [
    "## Problem 1: Global alignment\n",
    "\n",
    "**Task:** Use the template `global_alignment` function below to implement the Needleman-Wunsch algorithm for global sequence alignment. Use a \"-\" character for indels. Score the alignments using the BLOSUM62 substitution matrix. You can find it in `biopython`.\n",
    "\n",
    "**[10 points]**"
   ]
  },
  {
   "cell_type": "markdown",
   "metadata": {},
   "source": [
    "## Problem 2: Choosing our reference genomes\n",
    "\n",
    "**Task:** Identify the three closest relatives to SARS-CoV-2. Use the `global_alignment` function you have just implemented, inspect their alignment scores, and select the three most similar sequences to our spike protein sequence. These will serve as reference genomes in Problem 4 of this assignment and help us determine the function of ORFs.\n",
    "\n",
    "Save the full names of three coronaviruses with the closest matches to SARS-CoV-2's spike protein sequence as a Python list in the `three_closest_references` variable.\n",
    "\n",
    "**[6 points]**\n",
    "\n",
    "Then answer the following questions about global alignment and the three closest references.\n",
    "- When aligning spike protein sequences with the global alignment, we used the BLOSUM62 substitution matrix by default. Examine the similarity of the protein alignments (the frequency of matching amino acids) and discuss whether it would be better to use the BLOSUM90 or BLOSUM45 substitution matrix in our case.\n",
    "- The theory of evolution states that the SARS-CoV-2 virus must have evolved from some other virus in the past. Based on the three closest alignment references, is it more likely that SARS-CoV-2 jumped from another host organism or evolved from a human coronavirus? (We will explore this further in the following exercise.)\n",
    "\n",
    "Store your answers in the `blosum_selection` and `viral_origin` variables, respectively.\n",
    "\n",
    "**[4 points]**."
   ]
  },
  {
   "cell_type": "code",
   "execution_count": 102,
   "metadata": {},
   "outputs": [],
   "source": [
    "# Write your code here for finding closely-related viruses"
   ]
  },
  {
   "cell_type": "code",
   "execution_count": 103,
   "metadata": {},
   "outputs": [],
   "source": [
    "three_closest_references = [  # Enter the three most closely-related viruses\n",
    "    \"replace\",\n",
    "    \"these\",\n",
    "    \"values\",\n",
    "]"
   ]
  },
  {
   "cell_type": "code",
   "execution_count": 104,
   "metadata": {},
   "outputs": [],
   "source": [
    "blosum_selection = \"\"\"\n",
    "Would it be better to use BLOSUM90 or BLOSUM45 substitution matrix in our case.\n",
    "\"\"\""
   ]
  },
  {
   "cell_type": "code",
   "execution_count": 105,
   "metadata": {},
   "outputs": [],
   "source": [
    "viral_origin = \"\"\"\n",
    "Is it more likely that SARS-CoV-2 jumped from another host organism or evolved from a human coronavirus?\n",
    "\"\"\""
   ]
  },
  {
   "cell_type": "markdown",
   "metadata": {},
   "source": [
    "## MiniBLAST\n",
    "\n",
    "A sophisticated approach for characterizing any genetic sequence is BLAST. BLAST stores a database of annotated genes (usually from various organisms) and then uses local alignment and heuristic search to find database genes with a similar sequence to a query one. Assuming that genes with similar protein sequences perform similar functions, we can infer the function of a query sequence by looking at the function of any matching genes returned by BLAST. It is also possible that BLAST will not find suitable matches, which may signal that a sequence might not be an actual gene or protein. In this problem, we will implement our simplified BLAST version and call it MiniBLAST. We will use MiniBLAST to determine whether each of our candidate ORFs is a gene. And if it is a gene, we will use the annotations to determine what the gene does.\n",
    "\n",
    "Please note that BLAST is a complicated, optimized, heuristic, state-of-the-art technique to obtain very good approximate solutions. BLAST can query thousands of sequences in seconds. Our implementation will be slightly less sophisticated and somewhat more constrained but conceptually similar to that of BLAST.\n",
    "\n",
    "## Problem 3: Local alignment\n",
    "\n",
    "**Task:** Use the template`local_alignment` below and implement the Smith-Waterman algorithm for local sequence alignment.\n",
    "\n",
    "**[10 points]**"
   ]
  },
  {
   "cell_type": "markdown",
   "metadata": {},
   "source": [
    "## Problem 4: Finding homologous genes\n",
    "\n",
    "For this assignment, we have selected five promising SARS-CoV-2 ORFs. "
   ]
  },
  {
   "cell_type": "code",
   "execution_count": 368,
   "metadata": {},
   "outputs": [],
   "source": [
    "orf_candidates = {\n",
    "    \"ORF-1\": (1, 11995, 13483),\n",
    "    \"ORF-2\": (1, 26792, 27191),\n",
    "    \"ORF-3\": (1, 23650, 25384),\n",
    "    \"ORF-4\": (-1, 421, 667),\n",
    "    \"ORF-5\": (1, 9133, 13483),\n",
    "}"
   ]
  },
  {
   "cell_type": "markdown",
   "metadata": {},
   "source": [
    "We will now use MiniBLAST to compare these ORFs to known, annotated genes from the three closely-related coronaviruses you have stored in `three_closest_references`. The goal is to find the best matching gene from the reference genomes and decide if the quality of the match is sufficient to claim that ORF is an actual gene. \n",
    "\n",
    "Hint: among the five ORFs included in the candidates, we have planted one that is not a true gene.\n",
    "\n",
    "**Task:** We start by building a reference database. For each of the three closely-related coronaviruses from Problem 2, extract the coding regions (CDS) from each genome, and convert them to protein sequences. Store the name of the virus each protein sequence came from and its function. In our case, the gene's function is evident from its name, e.g., \"spike protein\", \"ORF1ab\", and similar. Given `orf_candidates`, compute the local alignment to each protein sequence in our database. Inspect each alignment and its corresponding score, and decide whether the alignment is sufficiently good to assume they perform the same function.\n",
    "\n",
    "Save your answers into the `orf_matches` variable as indicated in the cell below. Each ORF should be assigned a *closest-organism*, reporting the reference virus with the closest match, and a *homologous-gene*, indicating which gene the ORF matched to. If two ORFs match the reference with the same score, report one of them. For ORFs with no match in the reference, use None for both fields.\n",
    "\n",
    "**[10 points]**"
   ]
  },
  {
   "cell_type": "code",
   "execution_count": null,
   "metadata": {},
   "outputs": [],
   "source": [
    "# TODO Write your code for the analysis here"
   ]
  },
  {
   "cell_type": "code",
   "execution_count": null,
   "metadata": {},
   "outputs": [],
   "source": [
    "# Build reference databases "
   ]
  },
  {
   "cell_type": "code",
   "execution_count": null,
   "metadata": {},
   "outputs": [],
   "source": [
    "orf_matches = {\n",
    "    \"ORF-1\": {\n",
    "        # These are just example solutions. You have to replace them with the correct answers\n",
    "        \"closest-organism\": \"Duck-CoV isolate DK/GD/27/2014\", \n",
    "        \"homologous-gene\": \"non-structural protein\",\n",
    "    },\n",
    "    \"ORF-2\": {\n",
    "        \"closest-organism\": \"TODO\",\n",
    "        \"homologous-gene\": \"TODO\",\n",
    "    },\n",
    "    \"ORF-3\": {\n",
    "        \"closest-organism\": \"TODO\",\n",
    "        \"homologous-gene\": \"TODO\",\n",
    "    },\n",
    "    \"ORF-4\": {\n",
    "        \"closest-organism\": \"TODO\",\n",
    "        \"homologous-gene\": \"TODO\",\n",
    "    },\n",
    "    \"ORF-5\": {\n",
    "        \"closest-organism\": \"TODO\",\n",
    "        \"homologous-gene\": \"TODO\",\n",
    "    },\n",
    "}"
   ]
  },
  {
   "cell_type": "markdown",
   "metadata": {},
   "source": [
    "## Bonus Problem: Repurposing SARS-CoV drug treatments for SARS-CoV-2\n",
    "\n",
    "You might have noticed that the coronavirus we've been working with ends with the number 2. That means there must have been a SARS-CoV-1 at some point, right? Indeed there was. The SARS-CoV-1 virus caused a SARS outbreak in 2002-2004 and infected over 8,000 people from 29 countries, killing at least 774 people. These may seem like small numbers today, but at the time, the outbreak caused much panic because the virus had a much higher mortality rate than SARS-CoV-2. \n",
    "\n",
    "Several drugs were developed and tested for the treatment of SARS. Some proved effective. Since SARS-CoV-2 is closely related to SARS-CoV-1, we could repurpose some effective drugs for SARS-CoV-1. We will look at one drug in particular: EK1 binds to a specific region on the SARS-CoV-1 spike protein and prevents the virus from entering the cells, thus stopping the infection and, consequently, the spread of the virus. Assuming the spike protein in SARS-CoV-2 is similar enough to the spike protein in SARS-CoV-1, EK1 may be able to bind to the SARS-CoV-2 spike protein and subsequently stop the infection.\n",
    "\n",
    "EK1 recognizes a specific sequence (or motif) of aminoacid types: **_hpphcpc_** where **_h_** is a hydrophobic, **_p_** is a polar, and **_c_** is a charged amino acid. There are approximately six consecutive repeats of this motif in SARS-CoV-1, so we expect to find a similar pattern in the SARS-CoV-2 spike protein. The individual amino acid types in this motif are not equally important for the successful binding of EK1. For instance, it is much more important for the **_h_** amino acids to be in the correct spots than the **_p_** or **_c_** amino acids. It is also critical that none of the amino acids are missing in the spike protein, as this will prevent binding.\n",
    "\n",
    "Aminoacids and their corresponding types (**_h_**, **_p_**, or **_c_**) are provided in `data/aminoacid_properties.csv`.\n",
    "\n",
    "**Task:** Determine whether EK1 can bind to the SARS-CoV-2 spike protein. Based on the description of how EK1 binds to the spike protein in the paragraphs above, design a scoring function that will appropriately weigh amino acid matches/mismatches. Then, perform local alignment between the SARS-CoV-1 spike protein sequence and the EK1 target motif (**_hpphcpc_** repeated six times). Since EK1 was developed for SARS-CoV-1, we know there should be a valid binding motif somewhere along the SARS-CoV-1 spike protein. Use this fact to calibrate your scoring function. Can we find an EK1 binding motif in the SARS-CoV-2 spike protein? Plot the positions of the best alignments in both viruses. For each virus, plot a horizontal line representing the spike protein sequence and a bar indicating the location of the EK1 binding motif. Ensure the two genomes are aligned to see whether the binding motifs appear in the same general regions of the spike protein. Save your figure into `problem-bonus.png`.\n",
    "\n",
    "**[5 points]**\n",
    "\n",
    "Then answer the following questions:\n",
    "- Does the SARS-CoV-2 spike protein contain the EK1 binding motif?\n",
    "- Are SARS-CoV-1 and SARS-CoV-2 motifs comparable? What procentage of the aminoacids match between the motifs?\n",
    "- Since the introduction of EK1 as a potential COVID-19 treatment, the drug has seen further development. Does the treatment work on COVID-19 patients? Search through literature and provide at least two references.\n",
    "\n",
    "Store your answers in the `binding_motif_present`, `binding_motif_similarity` and `EK1_drug_efficacy` variables, respectively.\n",
    "\n",
    "**[5 points]**\n",
    "\n",
    "*Hint*: Our task is to design a scoring function that reflects the underlying process of binding EK1 to the spike protein. For instance, since no amino acids must be missing from the spike protein sequence, we can design our scoring function to disallow any indels in our alignment. We can achieve this by heavily penalizing indels. Similarly, if we know hydrophobic matches are more important than polar or charged matches, we can appropriately weigh matches and penalize mismatches between these types of proteins.\n",
    "\n"
   ]
  },
  {
   "cell_type": "code",
   "execution_count": null,
   "metadata": {},
   "outputs": [],
   "source": [
    "binding_motif_present = \"\"\"\n",
    "Does the SARS-CoV-2 spike protein contain the EK1 binding motif?\n",
    "\"\"\""
   ]
  },
  {
   "cell_type": "code",
   "execution_count": null,
   "metadata": {},
   "outputs": [],
   "source": [
    "binding_motif_similarity = \"\"\"\n",
    "Are SARS-CoV-1 and SARS-CoV-2 motifs comparable? What percentage of the aminoacids match between the motifs?\n",
    "\"\"\""
   ]
  },
  {
   "cell_type": "code",
   "execution_count": null,
   "metadata": {},
   "outputs": [],
   "source": [
    "EK1_drug_efficacy = \"\"\"\n",
    "Does the treatment work on COVID-19 patients? Search through literature and provide at least two references.\n",
    "\"\"\""
   ]
  }
 ],
 "metadata": {
  "kernelspec": {
   "display_name": "Python 3",
   "language": "python",
   "name": "python3"
  },
  "language_info": {
   "codemirror_mode": {
    "name": "ipython",
    "version": 3
   },
   "file_extension": ".py",
   "mimetype": "text/x-python",
   "name": "python",
   "nbconvert_exporter": "python",
   "pygments_lexer": "ipython3",
   "version": "3.11.9"
  }
 },
 "nbformat": 4,
 "nbformat_minor": 4
}
